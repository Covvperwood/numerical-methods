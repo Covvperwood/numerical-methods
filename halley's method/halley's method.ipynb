{
 "cells": [
  {
   "cell_type": "code",
   "execution_count": 1,
   "metadata": {},
   "outputs": [],
   "source": [
    "from sympy import *"
   ]
  },
  {
   "cell_type": "code",
   "execution_count": 27,
   "metadata": {},
   "outputs": [],
   "source": [
    "def halleys_method(function, initial, iterations, precision):\n",
    "    x = Symbol('x')\n",
    "    iters = iterations\n",
    "    \n",
    "    lfunction = lambdify(x, function, 'numpy')\n",
    "    \n",
    "    dfunction = function.diff(x)\n",
    "    ldfunction = lambdify(x, dfunction, 'numpy')\n",
    "    \n",
    "    d2function = dfunction.diff(x)\n",
    "    ld2function = lambdify(x, d2function, 'numpy')\n",
    "    \n",
    "    while (lfunction(initial) > precision) and (iters > 0):\n",
    "        t = - lfunction(initial)/ldfunction(initial)\n",
    "        r = ld2function(initial)*t**2/ldfunction(initial)\n",
    "        initial = initial + t**2/(t + 0.5*r)\n",
    "        iters -= 1\n",
    "        \n",
    "    return {'root': initial, 'iterations': iterations - iters}"
   ]
  },
  {
   "cell_type": "code",
   "execution_count": 39,
   "metadata": {},
   "outputs": [
    {
     "data": {
      "text/plain": [
       "{'root': 0.3553270038206912, 'iterations': 3}"
      ]
     },
     "execution_count": 39,
     "metadata": {},
     "output_type": "execute_result"
    }
   ],
   "source": [
    "x = Symbol('x')\n",
    "func = x**3 + 6*x**2 + 9*x - 4\n",
    "halleys_method(func, 3.6, 10, 0.001)"
   ]
  },
  {
   "cell_type": "code",
   "execution_count": 42,
   "metadata": {},
   "outputs": [
    {
     "data": {
      "text/plain": [
       "0.00034933313787899323"
      ]
     },
     "execution_count": 42,
     "metadata": {},
     "output_type": "execute_result"
    }
   ],
   "source": [
    "# невязка\n",
    "root = halleys_method(func, 3.6, 10, 0.001)['root']\n",
    "residual = lambdify(x, func, 'numpy')(root)\n",
    "residual"
   ]
  }
 ],
 "metadata": {
  "kernelspec": {
   "display_name": "Python 3",
   "language": "python",
   "name": "python3"
  },
  "language_info": {
   "codemirror_mode": {
    "name": "ipython",
    "version": 3
   },
   "file_extension": ".py",
   "mimetype": "text/x-python",
   "name": "python",
   "nbconvert_exporter": "python",
   "pygments_lexer": "ipython3",
   "version": "3.7.3"
  }
 },
 "nbformat": 4,
 "nbformat_minor": 4
}
