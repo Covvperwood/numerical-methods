{
 "cells": [
  {
   "cell_type": "code",
   "execution_count": 2,
   "metadata": {},
   "outputs": [],
   "source": [
    "import numpy as np\n",
    "import scipy.linalg"
   ]
  },
  {
   "cell_type": "code",
   "execution_count": 7,
   "metadata": {},
   "outputs": [],
   "source": [
    "def lu_decomposition(matrix):\n",
    "    n = len(matrix)\n",
    "    lower = np.zeros((n, n) # создаем единичную матрицу\n",
    "    upper = np.zeros((n, n)) # создаем матрицу из нулей\n",
    "    \n",
    "    lower[:, 1] = matrix[:, 1]\n",
    "    upper[1, :] = matrix[1, :]/lower[1, 1]\n",
    "    \n",
    "    for k in range(n):\n",
    "        lower[:, k] = matrix[row, k] - \n",
    "            \n",
    "    return (lower, upper)"
   ]
  },
  {
   "cell_type": "code",
   "execution_count": 8,
   "metadata": {},
   "outputs": [
    {
     "data": {
      "text/plain": [
       "array([[ 1.  ,  0.17, -0.25,  0.54],\n",
       "       [ 0.47,  1.  ,  0.67, -0.32],\n",
       "       [-0.11,  0.35,  1.  , -0.74],\n",
       "       [ 0.55,  0.43,  0.36,  1.  ]])"
      ]
     },
     "execution_count": 8,
     "metadata": {},
     "output_type": "execute_result"
    }
   ],
   "source": [
    "matrix = np.array([[1.00, 0.17, -0.25, 0.54], [0.47, 1.00, 0.67, -0.32], [-0.11, 0.35, 1.00, -0.74], [0.55, 0.43, 0.36, 1.00]])\n",
    "matrix"
   ]
  },
  {
   "cell_type": "code",
   "execution_count": 9,
   "metadata": {},
   "outputs": [
    {
     "data": {
      "text/plain": [
       "(array([[ 1.        ,  0.        ,  0.        ,  0.        ],\n",
       "        [ 0.47      ,  1.        ,  0.        ,  0.        ],\n",
       "        [-0.11      ,  1.05312768,  1.        ,  0.        ],\n",
       "        [ 0.55      ,  2.58926021, -0.70809042,  1.        ]]),\n",
       " array([[ 1.        ,  0.17      , -0.25      ,  0.54      ],\n",
       "        [ 0.        ,  0.3501    ,  0.4775    , -0.9938    ],\n",
       "        [ 0.        ,  0.        ,  0.13963153,  0.78599829],\n",
       "        [ 0.        ,  0.        ,  0.        ,  3.83276465]]))"
      ]
     },
     "execution_count": 9,
     "metadata": {},
     "output_type": "execute_result"
    }
   ],
   "source": [
    "lu_decomposition(matrix) # собственноручно написанная функция"
   ]
  },
  {
   "cell_type": "code",
   "execution_count": 10,
   "metadata": {},
   "outputs": [
    {
     "data": {
      "text/plain": [
       "(array([[ 1.        ,  0.        ,  0.        ,  0.        ],\n",
       "        [-0.11      ,  0.40071731,  1.        ,  0.        ],\n",
       "        [ 0.47      ,  1.        ,  0.        ,  0.        ],\n",
       "        [ 0.55      ,  0.36572112,  0.31889697,  1.        ]]),\n",
       " array([[ 1.        ,  0.17      , -0.25      ,  0.54      ],\n",
       "        [ 0.        ,  0.9201    ,  0.7875    , -0.5738    ],\n",
       "        [ 0.        ,  0.        ,  0.65693512, -0.45066841],\n",
       "        [ 0.        ,  0.        ,  0.        ,  1.05656757]]))"
      ]
     },
     "execution_count": 10,
     "metadata": {},
     "output_type": "execute_result"
    }
   ],
   "source": [
    "scipy.linalg.lu(matrix, permute_l=True) # встроенная функция"
   ]
  },
  {
   "cell_type": "code",
   "execution_count": null,
   "metadata": {},
   "outputs": [],
   "source": []
  }
 ],
 "metadata": {
  "kernelspec": {
   "display_name": "Python 3",
   "language": "python",
   "name": "python3"
  },
  "language_info": {
   "codemirror_mode": {
    "name": "ipython",
    "version": 3
   },
   "file_extension": ".py",
   "mimetype": "text/x-python",
   "name": "python",
   "nbconvert_exporter": "python",
   "pygments_lexer": "ipython3",
   "version": "3.7.3"
  }
 },
 "nbformat": 4,
 "nbformat_minor": 4
}
